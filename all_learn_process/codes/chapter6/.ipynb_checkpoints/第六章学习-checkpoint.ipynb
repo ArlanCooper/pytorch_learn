{
 "cells": [
  {
   "cell_type": "markdown",
   "metadata": {},
   "source": [
    "# 猫狗分类实战"
   ]
  },
  {
   "cell_type": "markdown",
   "metadata": {},
   "source": [
    "## 导入需要的包"
   ]
  },
  {
   "cell_type": "code",
   "execution_count": 5,
   "metadata": {
    "ExecuteTime": {
     "end_time": "2020-12-14T08:48:45.305537Z",
     "start_time": "2020-12-14T08:48:45.214780Z"
    }
   },
   "outputs": [],
   "source": [
    "from config import opt\n",
    "import os\n",
    "import torch as t\n",
    "import models\n",
    "from data.dataset import DogCat\n",
    "from torch.utils.data import DataLoader\n",
    "from torchnet import meter\n",
    "from utils.visualize import Visualizer\n",
    "from tqdm import tqdm"
   ]
  },
  {
   "cell_type": "markdown",
   "metadata": {},
   "source": [
    "## 数据加载"
   ]
  },
  {
   "cell_type": "code",
   "execution_count": 1,
   "metadata": {
    "ExecuteTime": {
     "end_time": "2020-12-14T08:29:03.293548Z",
     "start_time": "2020-12-14T08:29:02.928529Z"
    }
   },
   "outputs": [],
   "source": [
    "import os\n",
    "from PIL import Image\n",
    "from torch.utils import data\n",
    "import numpy as np\n",
    "from torchvision import transforms as T\n",
    "\n",
    "class DogCat(data.Dataset):\n",
    "    \n",
    "    def __init__(self, root, transforms=None, train=True, test=False):\n",
    "        \"\"\"\n",
    "        目标：获取所有图片地址，并根据训练、验证、测试划分数据\n",
    "        \"\"\"\n",
    "        self.test = test\n",
    "        imgs = [os.path.join(root, img) for img in os.listdir(root)] \n",
    "\n",
    "        # test1: data/test1/8973.jpg\n",
    "        # train: data/train/cat.10004.jpg \n",
    "        if self.test:\n",
    "            imgs = sorted(imgs, key=lambda x: int(x.split('.')[-2].split('/')[-1]))\n",
    "        else:\n",
    "            imgs = sorted(imgs, key=lambda x: int(x.split('.')[-2]))\n",
    "            \n",
    "        imgs_num = len(imgs)\n",
    "        \n",
    "        # 划分训练、验证集，验证:训练 = 3:7\n",
    "        if self.test:\n",
    "            self.imgs = imgs\n",
    "        elif train:\n",
    "            self.imgs = imgs[:int(0.7*imgs_num)]\n",
    "        else :\n",
    "            self.imgs = imgs[int(0.7*imgs_num):]            \n",
    "    \n",
    "        if transforms is None:\n",
    "        \n",
    "            # 数据转换操作，测试验证和训练的数据转换有所区别\n",
    "\t        \n",
    "            normalize = T.Normalize(mean = [0.485, 0.456, 0.406], \n",
    "                                     std = [0.229, 0.224, 0.225])\n",
    "\n",
    "            # 测试集和验证集\n",
    "            if self.test or not train: \n",
    "                self.transforms = T.Compose([\n",
    "                    T.Resize(224),\n",
    "                    T.CenterCrop(224),\n",
    "                    T.ToTensor(),\n",
    "                    normalize\n",
    "                ]) \n",
    "            # 训练集\n",
    "            else :\n",
    "                self.transforms = T.Compose([\n",
    "                    T.Resize(256),\n",
    "                    T.RandomReSizedCrop(224),\n",
    "                    T.RandomHorizontalFlip(),\n",
    "                    T.ToTensor(),\n",
    "                    normalize\n",
    "                ]) \n",
    "                \n",
    "        \n",
    "    def __getitem__(self, index):\n",
    "        \"\"\"\n",
    "        返回一张图片的数据\n",
    "        对于测试集，没有label，返回图片id，如1000.jpg返回1000\n",
    "        \"\"\"\n",
    "        img_path = self.imgs[index]\n",
    "        if self.test: \n",
    "             label = int(self.imgs[index].split('.')[-2].split('/')[-1])\n",
    "        else: \n",
    "             label = 1 if 'dog' in img_path.split('/')[-1] else 0\n",
    "        data = Image.open(img_path)\n",
    "        data = self.transforms(data)\n",
    "        return data, label\n",
    "    \n",
    "    def __len__(self):\n",
    "        \"\"\"\n",
    "        返回数据集中所有图片的个数\n",
    "        \"\"\"\n",
    "        return len(self.imgs)"
   ]
  },
  {
   "cell_type": "markdown",
   "metadata": {},
   "source": [
    "关于数据集使用的注意事项，在上一章中已经提到，将文件读取等费时操作放在`__getitem__`函数中，利用多进程加速。避免一次性将所有图片都读进内存，不仅费时也会占用较大内存，而且不易进行数据增强等操作。另外在这里，我们将训练集中的30%作为验证集，可用来检查模型的训练效果，避免过拟合。在使用时，我们可通过dataloader加载数据。"
   ]
  },
  {
   "cell_type": "code",
   "execution_count": null,
   "metadata": {},
   "outputs": [],
   "source": [
    "train_dataset = DogCat(opt.train_data_root, train=True)\n",
    "trainloader = DataLoader(train_dataset,\n",
    "                        batch_size = opt.batch_size,\n",
    "                        shuffle = True,\n",
    "                        num_workers = opt.num_workers)\n",
    "                  \n",
    "for ii, (data, label) in enumerate(trainloader):\n",
    "\ttrain()"
   ]
  },
  {
   "cell_type": "markdown",
   "metadata": {},
   "source": [
    "# 模型定义"
   ]
  },
  {
   "cell_type": "markdown",
   "metadata": {},
   "source": [
    "模型的定义主要保存在`models/`目录下，其中`BasicModule`是对`nn.Module`的简易封装，提供快速加载和保存模型的接口。\n"
   ]
  },
  {
   "cell_type": "code",
   "execution_count": 6,
   "metadata": {
    "ExecuteTime": {
     "end_time": "2020-12-14T08:57:21.039856Z",
     "start_time": "2020-12-14T08:57:21.034870Z"
    }
   },
   "outputs": [],
   "source": [
    "class BasicModule(t.nn.Module):\n",
    "    \"\"\"\n",
    "    封装了nn.Module，主要提供save和load两个方法\n",
    "    \"\"\"\n",
    "\n",
    "    def __init__(self):\n",
    "        super(BasicModule,self).__init__()\n",
    "        self.model_name = str(type(self)) # 模型的默认名字\n",
    "\n",
    "    def load(self, path):\n",
    "        \"\"\"\n",
    "        可加载指定路径的模型\n",
    "        \"\"\"\n",
    "        self.load_state_dict(t.load(path))\n",
    "\n",
    "    def save(self, name=None):\n",
    "        \"\"\"\n",
    "        保存模型，默认使用“模型名字+时间”作为文件名，\n",
    "        如AlexNet_0710_23:57:29.pth\n",
    "        \"\"\"\n",
    "        if name is None:\n",
    "            prefix = 'checkpoints/' + self.model_name + '_'\n",
    "            name = time.strftime(prefix + '%m%d_%H:%M:%S.pth')\n",
    "        t.save(self.state_dict(), name)\n",
    "        return name"
   ]
  },
  {
   "cell_type": "markdown",
   "metadata": {},
   "source": [
    "在实际使用中，直接调用`model.save()`及`model.load(opt.load_path)`即可。\n",
    "\n",
    "其它自定义模型一般继承`BasicModule`，然后实现自己的模型。其中`AlexNet.py`实现了AlexNet，`ResNet34`实现了ResNet34。在`models/__init__py`中，代码如下：\n",
    "```python\n",
    "from .AlexNet import AlexNet\n",
    "from .ResNet34 import ResNet34\n",
    "\n",
    "```"
   ]
  },
  {
   "cell_type": "markdown",
   "metadata": {},
   "source": [
    "这样在主函数中就可以写成：\n",
    "\n",
    "```python\n",
    "from models import AlexNet\n",
    "或\n",
    "import models\n",
    "model = models.AlexNet()\n",
    "或\n",
    "import models\n",
    "model = getattr('models', 'AlexNet')()\n",
    "```\n",
    "\n",
    "其中最后一种写法最为关键，这意味着我们可以通过字符串直接指定使用的模型，而不必使用判断语句，也不必在每次新增加模型后都修改代码。新增模型后只需要在`models/__init__.py`中加上`from .new_module import new_module`即可。\n",
    "\n",
    "其它关于模型定义的注意事项，在上一章中已详细讲解，这里就不再赘述，总结起来就是：\n",
    "\n",
    "- 尽量使用`nn.Sequential`（比如AlexNet）\n",
    "- 将经常使用的结构封装成子Module（比如GoogLeNet的Inception结构，ResNet的Residual Block结构）\n",
    "- 将重复且有规律性的结构，用函数生成（比如VGG的多种变体，ResNet多种变体都是由多个重复卷积层组成）"
   ]
  },
  {
   "cell_type": "markdown",
   "metadata": {},
   "source": [
    "## 工具函数"
   ]
  },
  {
   "cell_type": "markdown",
   "metadata": {},
   "source": [
    "在项目中，我们可能会用到一些helper方法，这些方法可以统一放在`utils/`文件夹下，需要使用时再引入。在本例中主要是封装了可视化工具visdom的一些操作，其代码如下，在本次实验中只会用到`plot`方法，用来统计损失信息。"
   ]
  },
  {
   "cell_type": "code",
   "execution_count": 7,
   "metadata": {
    "ExecuteTime": {
     "end_time": "2020-12-14T09:01:24.856526Z",
     "start_time": "2020-12-14T09:01:24.846587Z"
    }
   },
   "outputs": [],
   "source": [
    "import visdom\n",
    "import time\n",
    "import numpy as np\n",
    "\n",
    "class Visualizer(object):\n",
    "    \"\"\"\n",
    "    封装了visdom的基本操作，但是你仍然可以通过`self.vis.function`\n",
    "    或者`self.function`调用原生的visdom接口\n",
    "    比如 \n",
    "    self.text('hello visdom')\n",
    "    self.histogram(t.randn(1000))\n",
    "    self.line(t.arange(0, 10),t.arange(1, 11))\n",
    "    \"\"\"\n",
    "\n",
    "    def __init__(self, env='default', **kwargs):\n",
    "        self.vis = visdom.Visdom(env=env, **kwargs)\n",
    "        \n",
    "        # 画的第几个数，相当于横坐标\n",
    "        # 保存（’loss',23） 即loss的第23个点\n",
    "        self.index = {} \n",
    "        self.log_text = ''\n",
    "    def reinit(self, env='default', **kwargs):\n",
    "        \"\"\"\n",
    "        修改visdom的配置\n",
    "        \"\"\"\n",
    "        self.vis = visdom.Visdom(env=env, **kwargs)\n",
    "        return self\n",
    "\n",
    "    def plot_many(self, d):\n",
    "        \"\"\"\n",
    "        一次plot多个\n",
    "        @params d: dict (name, value) i.e. ('loss', 0.11)\n",
    "        \"\"\"\n",
    "        for k, v in d.items():\n",
    "            self.plot(k, v)\n",
    "\n",
    "    def img_many(self, d):\n",
    "        for k, v in d.items():\n",
    "            self.img(k, v)\n",
    "\n",
    "    def plot(self, name, y, **kwargs):\n",
    "        \"\"\"\n",
    "        self.plot('loss', 1.00)\n",
    "        \"\"\"\n",
    "        x = self.index.get(name, 0)\n",
    "        self.vis.line(Y=np.array([y]), X=np.array([x]),\n",
    "                      win=name,\n",
    "                      opts=dict(title=name),\n",
    "                      update=None if x == 0 else 'append',\n",
    "                      **kwargs\n",
    "                      )\n",
    "        self.index[name] = x + 1\n",
    "\n",
    "    def img(self, name, img_, **kwargs):\n",
    "        \"\"\"\n",
    "        self.img('input_img', t.Tensor(64, 64))\n",
    "        self.img('input_imgs', t.Tensor(3, 64, 64))\n",
    "        self.img('input_imgs', t.Tensor(100, 1, 64, 64))\n",
    "        self.img('input_imgs', t.Tensor(100, 3, 64, 64), nrows=10)\n",
    "\n",
    "        !!! don't ~~self.img('input_imgs', t.Tensor(100, 64, 64), nrows=10)~~ !!!\n",
    "        \"\"\"\n",
    "        self.vis.images(img_.cpu().numpy(),\n",
    "                       win=name,\n",
    "                       opts=dict(title=name),\n",
    "                       **kwargs\n",
    "                       )\n",
    "\n",
    "    def log(self, info, win='log_text'):\n",
    "        \"\"\"\n",
    "        self.log({'loss':1, 'lr':0.0001})\n",
    "        \"\"\"\n",
    "\n",
    "        self.log_text += ('[{time}] {info} <br>'.format(\n",
    "                            time=time.strftime('%m%d_%H%M%S'),\\\n",
    "                            info=info)) \n",
    "        self.vis.text(self.log_text, win)   \n",
    "\n",
    "    def __getattr__(self, name):\n",
    "        \"\"\"\n",
    "        自定义的plot,image,log,plot_many等除外\n",
    "        self.function 等价于self.vis.function\n",
    "        \"\"\"\n",
    "        return getattr(self.vis, name)"
   ]
  },
  {
   "cell_type": "markdown",
   "metadata": {},
   "source": [
    "## 配置文件"
   ]
  },
  {
   "cell_type": "markdown",
   "metadata": {},
   "source": [
    "在模型定义、数据处理和训练等过程都有很多变量，这些变量应提供默认值，并统一放置在配置文件中，这样在后期调试、修改代码或迁移程序时会比较方便，在这里我们将所有可配置项放在`config.py`中。"
   ]
  },
  {
   "cell_type": "code",
   "execution_count": 8,
   "metadata": {
    "ExecuteTime": {
     "end_time": "2020-12-14T09:02:35.138960Z",
     "start_time": "2020-12-14T09:02:35.134970Z"
    }
   },
   "outputs": [],
   "source": [
    "class DefaultConfig(object):\n",
    "    env = 'default' # visdom 环境\n",
    "    model = 'AlexNet' # 使用的模型，名字必须与models/__init__.py中的名字一致\n",
    "    \n",
    "    train_data_root = './data/train/' # 训练集存放路径\n",
    "    test_data_root = './data/test1' # 测试集存放路径\n",
    "    load_model_path = 'checkpoints/model.pth' # 加载预训练的模型的路径，为None代表不加载\n",
    "\n",
    "    batch_size = 128 # batch size\n",
    "    use_gpu = True # use GPU or not\n",
    "    num_workers = 4 # how many workers for loading data\n",
    "    print_freq = 20 # print info every N batch\n",
    "\n",
    "    debug_file = '/tmp/debug' # if os.path.exists(debug_file): enter ipdb\n",
    "    result_file = 'result.csv'\n",
    "      \n",
    "    max_epoch = 10\n",
    "    lr = 0.1 # initial learning rate\n",
    "    lr_decay = 0.95 # when val_loss increase, lr = lr*lr_decay\n",
    "    weight_decay = 1e-4 # 损失函数"
   ]
  },
  {
   "cell_type": "markdown",
   "metadata": {},
   "source": [
    "可配置的参数主要包括：\n",
    "\n",
    "- 数据集参数（文件路径、batch_size等）\n",
    "- 训练参数（学习率、训练epoch等）\n",
    "- 模型参数\n",
    "\n",
    "这样我们在程序中就可以这样使用：\n",
    "\n",
    "```\n",
    "import models\n",
    "from config import DefaultConfig\n",
    "\n",
    "opt = DefaultConfig()\n",
    "lr = opt.lr\n",
    "model = getattr(models, opt.model)\n",
    "dataset = DogCat(opt.train_data_root)\n",
    "```\n",
    "\n",
    "这些都只是默认参数，在这里还提供了更新函数，根据字典更新配置参数。\n",
    "\n",
    "```\n",
    "def parse(self, kwargs):\n",
    "        \"\"\"\n",
    "        根据字典kwargs 更新 config参数\n",
    "        \"\"\"\n",
    "        # 更新配置参数\n",
    "        for k, v in kwargs.items():\n",
    "            if not hasattr(self, k):\n",
    "                # 警告还是报错，取决于你个人的喜好\n",
    "                warnings.warn(\"Warning: opt has not attribut %s\" %k)\n",
    "            setattr(self, k, v)\n",
    "            \n",
    "        # 打印配置信息\t\n",
    "        print('user config:')\n",
    "        for k, v in self.__class__.__dict__.items():\n",
    "            if not k.startswith('__'):\n",
    "                print(k, getattr(self, k))\n",
    "```\n",
    "\n",
    "这样我们在实际使用时，并不需要每次都修改`config.py`，只需要通过命令行传入所需参数，覆盖默认配置即可。\n",
    "\n",
    "例如：\n",
    "\n",
    "```\n",
    "opt = DefaultConfig()\n",
    "new_config = {'lr':0.1,'use_gpu':False}\n",
    "opt.parse(new_config)\n",
    "opt.lr == 0.1\n",
    "```"
   ]
  },
  {
   "cell_type": "markdown",
   "metadata": {},
   "source": [
    "## main.py"
   ]
  },
  {
   "cell_type": "markdown",
   "metadata": {},
   "source": [
    "在讲解主程序`main.py`之前，我们先来看看2017年3月谷歌开源的一个命令行工具`fire`[^3] ，通过`pip install fire`即可安装。下面来看看`fire`的基础用法，假设`example.py`文件内容如下：\n",
    "```python\n",
    "\n",
    "import fire\n",
    "\n",
    "def add(x, y):\n",
    "    return x + y\n",
    "  \n",
    "def mul(**kwargs):\n",
    "    a = kwargs['a']\n",
    "    b = kwargs['b']\n",
    "    return a * b\n",
    "\n",
    "if __name__ == '__main__':\n",
    "    fire.Fire()\n",
    "```"
   ]
  },
  {
   "cell_type": "code",
   "execution_count": 10,
   "metadata": {
    "ExecuteTime": {
     "end_time": "2020-12-14T09:07:46.984805Z",
     "start_time": "2020-12-14T09:07:46.649785Z"
    }
   },
   "outputs": [
    {
     "name": "stdout",
     "output_type": "stream",
     "text": [
      "3\n"
     ]
    }
   ],
   "source": [
    "!python example.py add 1 2 # 执行add(1, 2)"
   ]
  },
  {
   "cell_type": "code",
   "execution_count": 11,
   "metadata": {
    "ExecuteTime": {
     "end_time": "2020-12-14T09:07:57.101089Z",
     "start_time": "2020-12-14T09:07:56.802035Z"
    }
   },
   "outputs": [
    {
     "name": "stdout",
     "output_type": "stream",
     "text": [
      "2\n"
     ]
    }
   ],
   "source": [
    "!python example.py mul --a=1 --b=2 # 执行mul(a=1, b=2), kwargs={'a':1, 'b':2}"
   ]
  },
  {
   "cell_type": "code",
   "execution_count": 13,
   "metadata": {
    "ExecuteTime": {
     "end_time": "2020-12-14T09:08:08.528447Z",
     "start_time": "2020-12-14T09:08:08.287488Z"
    }
   },
   "outputs": [
    {
     "name": "stdout",
     "output_type": "stream",
     "text": [
      "3\n"
     ]
    }
   ],
   "source": [
    "!python example.py add --x=1 --y=2 # 执行add(x=1, y=2)"
   ]
  },
  {
   "cell_type": "code",
   "execution_count": null,
   "metadata": {},
   "outputs": [],
   "source": []
  }
 ],
 "metadata": {
  "kernelspec": {
   "display_name": "Python [conda env:.conda-pytorch] *",
   "language": "python",
   "name": "conda-env-.conda-pytorch-py"
  },
  "language_info": {
   "codemirror_mode": {
    "name": "ipython",
    "version": 3
   },
   "file_extension": ".py",
   "mimetype": "text/x-python",
   "name": "python",
   "nbconvert_exporter": "python",
   "pygments_lexer": "ipython3",
   "version": "3.6.6"
  },
  "toc": {
   "base_numbering": 1,
   "nav_menu": {},
   "number_sections": true,
   "sideBar": true,
   "skip_h1_title": false,
   "title_cell": "Table of Contents",
   "title_sidebar": "Contents",
   "toc_cell": false,
   "toc_position": {},
   "toc_section_display": true,
   "toc_window_display": false
  }
 },
 "nbformat": 4,
 "nbformat_minor": 4
}
