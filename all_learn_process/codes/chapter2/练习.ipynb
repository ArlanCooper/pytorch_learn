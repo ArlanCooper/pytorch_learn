{
 "cells": [
  {
   "cell_type": "markdown",
   "metadata": {},
   "source": [
    "# 导入需要的包"
   ]
  },
  {
   "cell_type": "code",
   "execution_count": 1,
   "metadata": {
    "ExecuteTime": {
     "end_time": "2020-12-24T08:13:44.506895Z",
     "start_time": "2020-12-24T08:13:44.234597Z"
    }
   },
   "outputs": [],
   "source": [
    "import torch.nn as nn\n",
    "import torch.nn.functional as F\n",
    "import torch as t\n",
    "import torch.optim as optim"
   ]
  },
  {
   "cell_type": "code",
   "execution_count": 2,
   "metadata": {
    "ExecuteTime": {
     "end_time": "2020-12-24T08:13:44.521830Z",
     "start_time": "2020-12-24T08:13:44.517841Z"
    }
   },
   "outputs": [],
   "source": [
    "import numpy as np"
   ]
  },
  {
   "cell_type": "markdown",
   "metadata": {},
   "source": [
    "# 定义网路"
   ]
  },
  {
   "cell_type": "code",
   "execution_count": 3,
   "metadata": {
    "ExecuteTime": {
     "end_time": "2020-12-24T08:13:45.563804Z",
     "start_time": "2020-12-24T08:13:45.557790Z"
    }
   },
   "outputs": [],
   "source": [
    "class Net(nn.Module):\n",
    "    def __init__(self):\n",
    "        super(Net,self).__init__()\n",
    "        self.conv1 = nn.Conv2d(1, 6, 5)\n",
    "        self.conv2 = nn.Conv2d(6, 16, 5)\n",
    "        self.fc1 = nn.Linear(16*5*5,120)\n",
    "        self.fc2 = nn.Linear(120, 84)\n",
    "        self.fc3 = nn.Linear(84, 10)\n",
    "    def forward(self,x):\n",
    "        x = F.max_pool2d(F.relu(self.conv1(x)), (2, 2))\n",
    "        x = F.max_pool2d(F.relu(self.conv2(x)), 2)\n",
    "        x = x.view(x.size()[0],-1)\n",
    "        x = F.relu(self.fc1(x))\n",
    "        x = F.relu(self.fc2(x))\n",
    "        x = self.fc3(x)\n",
    "        return x\n",
    "        "
   ]
  },
  {
   "cell_type": "code",
   "execution_count": 4,
   "metadata": {
    "ExecuteTime": {
     "end_time": "2020-12-24T08:13:48.062377Z",
     "start_time": "2020-12-24T08:13:48.057361Z"
    }
   },
   "outputs": [],
   "source": [
    "net = Net()"
   ]
  },
  {
   "cell_type": "code",
   "execution_count": 5,
   "metadata": {
    "ExecuteTime": {
     "end_time": "2020-12-24T08:13:48.266757Z",
     "start_time": "2020-12-24T08:13:48.261741Z"
    }
   },
   "outputs": [
    {
     "name": "stdout",
     "output_type": "stream",
     "text": [
      "Net(\n",
      "  (conv1): Conv2d(1, 6, kernel_size=(5, 5), stride=(1, 1))\n",
      "  (conv2): Conv2d(6, 16, kernel_size=(5, 5), stride=(1, 1))\n",
      "  (fc1): Linear(in_features=400, out_features=120, bias=True)\n",
      "  (fc2): Linear(in_features=120, out_features=84, bias=True)\n",
      "  (fc3): Linear(in_features=84, out_features=10, bias=True)\n",
      ")\n"
     ]
    }
   ],
   "source": [
    "print(net)"
   ]
  },
  {
   "cell_type": "code",
   "execution_count": 6,
   "metadata": {
    "ExecuteTime": {
     "end_time": "2020-12-24T08:13:50.254539Z",
     "start_time": "2020-12-24T08:13:50.249552Z"
    }
   },
   "outputs": [
    {
     "name": "stdout",
     "output_type": "stream",
     "text": [
      "conv1.weight : torch.Size([6, 1, 5, 5])\n",
      "conv1.bias : torch.Size([6])\n",
      "conv2.weight : torch.Size([16, 6, 5, 5])\n",
      "conv2.bias : torch.Size([16])\n",
      "fc1.weight : torch.Size([120, 400])\n",
      "fc1.bias : torch.Size([120])\n",
      "fc2.weight : torch.Size([84, 120])\n",
      "fc2.bias : torch.Size([84])\n",
      "fc3.weight : torch.Size([10, 84])\n",
      "fc3.bias : torch.Size([10])\n"
     ]
    }
   ],
   "source": [
    "for name,para in net.named_parameters():\n",
    "    print(name,':',para.size())"
   ]
  },
  {
   "cell_type": "markdown",
   "metadata": {},
   "source": [
    "# 测试数据"
   ]
  },
  {
   "cell_type": "code",
   "execution_count": 32,
   "metadata": {
    "ExecuteTime": {
     "end_time": "2020-12-24T08:37:00.703799Z",
     "start_time": "2020-12-24T08:37:00.697816Z"
    }
   },
   "outputs": [
    {
     "data": {
      "text/plain": [
       "torch.Size([3, 10])"
      ]
     },
     "execution_count": 32,
     "metadata": {},
     "output_type": "execute_result"
    }
   ],
   "source": [
    "input = t.randn(3, 1, 32, 32)\n",
    "out = net(input)\n",
    "out.size()"
   ]
  },
  {
   "cell_type": "code",
   "execution_count": 33,
   "metadata": {
    "ExecuteTime": {
     "end_time": "2020-12-24T08:37:03.147611Z",
     "start_time": "2020-12-24T08:37:03.141656Z"
    }
   },
   "outputs": [
    {
     "data": {
      "text/plain": [
       "tensor([[-0.2316, -8.3453, -3.6949, -6.8085,  6.9678, 16.3747, -0.4129, -6.0530,\n",
       "          2.4898,  2.4800],\n",
       "        [ 3.7099,  0.7855, -0.5790, -4.8993,  2.5702,  7.8640, -3.7059, -3.9834,\n",
       "         -1.0880,  3.5866],\n",
       "        [-1.8652, -4.4865,  0.9362, -9.1556, 10.8245, 14.4697, -6.1978, -5.8015,\n",
       "          5.9397,  2.7098]], grad_fn=<AddmmBackward>)"
      ]
     },
     "execution_count": 33,
     "metadata": {},
     "output_type": "execute_result"
    }
   ],
   "source": [
    "out"
   ]
  },
  {
   "cell_type": "code",
   "execution_count": 10,
   "metadata": {
    "ExecuteTime": {
     "end_time": "2020-12-24T08:14:18.185481Z",
     "start_time": "2020-12-24T08:14:18.181492Z"
    }
   },
   "outputs": [],
   "source": [
    "target = t.zeros(1,10).view(1,10).long()\n",
    "target[0][3] = 1"
   ]
  },
  {
   "cell_type": "code",
   "execution_count": 34,
   "metadata": {
    "ExecuteTime": {
     "end_time": "2020-12-24T08:37:12.360965Z",
     "start_time": "2020-12-24T08:37:12.356975Z"
    }
   },
   "outputs": [],
   "source": [
    "target = t.tensor([1,3,5])"
   ]
  },
  {
   "cell_type": "code",
   "execution_count": 35,
   "metadata": {
    "ExecuteTime": {
     "end_time": "2020-12-24T08:37:13.049515Z",
     "start_time": "2020-12-24T08:37:13.045526Z"
    }
   },
   "outputs": [
    {
     "data": {
      "text/plain": [
       "torch.Size([3])"
      ]
     },
     "execution_count": 35,
     "metadata": {},
     "output_type": "execute_result"
    }
   ],
   "source": [
    "target.size()"
   ]
  },
  {
   "cell_type": "markdown",
   "metadata": {},
   "source": [
    "## 损失函数"
   ]
  },
  {
   "cell_type": "code",
   "execution_count": 36,
   "metadata": {
    "ExecuteTime": {
     "end_time": "2020-12-24T08:37:16.093087Z",
     "start_time": "2020-12-24T08:37:16.089098Z"
    }
   },
   "outputs": [],
   "source": [
    "criterion = nn.CrossEntropyLoss()"
   ]
  },
  {
   "cell_type": "code",
   "execution_count": 37,
   "metadata": {
    "ExecuteTime": {
     "end_time": "2020-12-24T08:37:16.651566Z",
     "start_time": "2020-12-24T08:37:16.646548Z"
    }
   },
   "outputs": [
    {
     "data": {
      "text/plain": [
       "tensor(12.5148, grad_fn=<NllLossBackward>)"
      ]
     },
     "execution_count": 37,
     "metadata": {},
     "output_type": "execute_result"
    }
   ],
   "source": [
    "loss = criterion(out,target)\n",
    "loss"
   ]
  },
  {
   "cell_type": "markdown",
   "metadata": {},
   "source": [
    "## 反向传播"
   ]
  },
  {
   "cell_type": "code",
   "execution_count": 14,
   "metadata": {
    "ExecuteTime": {
     "end_time": "2020-12-24T08:14:24.849351Z",
     "start_time": "2020-12-24T08:14:24.838381Z"
    }
   },
   "outputs": [
    {
     "name": "stdout",
     "output_type": "stream",
     "text": [
      "反向传播之前 conv1.bias的梯度\n",
      "None\n",
      "反向传播之后 conv1.bias的梯度\n",
      "tensor([-0.0187, -0.0280,  0.0068, -0.0110,  0.0314,  0.0360])\n"
     ]
    }
   ],
   "source": [
    "net.zero_grad()\n",
    "print('反向传播之前 conv1.bias的梯度')\n",
    "print(net.conv1.bias.grad)\n",
    "loss.backward()\n",
    "print('反向传播之后 conv1.bias的梯度')\n",
    "print(net.conv1.bias.grad)"
   ]
  },
  {
   "cell_type": "markdown",
   "metadata": {},
   "source": [
    "## 优化器"
   ]
  },
  {
   "cell_type": "code",
   "execution_count": 15,
   "metadata": {
    "ExecuteTime": {
     "end_time": "2020-12-24T08:14:28.063233Z",
     "start_time": "2020-12-24T08:14:28.057250Z"
    }
   },
   "outputs": [],
   "source": [
    "optimizer = optim.SGD(net.parameters(),lr=0.01)\n",
    "\n",
    "# 清空梯度\n",
    "optimizer.zero_grad()\n",
    "\n",
    "# 计算损失\n",
    "output = net(input)\n",
    "loss = criterion(output,target)\n",
    "\n",
    "# 反向传播\n",
    "loss.backward()\n",
    "\n",
    "# 更新参数\n",
    "optimizer.step()"
   ]
  },
  {
   "cell_type": "code",
   "execution_count": 16,
   "metadata": {
    "ExecuteTime": {
     "end_time": "2020-12-24T08:14:32.282463Z",
     "start_time": "2020-12-24T08:14:32.277447Z"
    }
   },
   "outputs": [],
   "source": [
    "x = t.randn(200,1,32,32)"
   ]
  },
  {
   "cell_type": "code",
   "execution_count": 25,
   "metadata": {
    "ExecuteTime": {
     "end_time": "2020-12-24T08:27:35.066221Z",
     "start_time": "2020-12-24T08:27:35.062197Z"
    }
   },
   "outputs": [
    {
     "data": {
      "text/plain": [
       "torch.Size([1, 1, 32, 32])"
      ]
     },
     "execution_count": 25,
     "metadata": {},
     "output_type": "execute_result"
    }
   ],
   "source": [
    "x[0:1,:,:, :].shape"
   ]
  },
  {
   "cell_type": "code",
   "execution_count": 39,
   "metadata": {
    "ExecuteTime": {
     "end_time": "2020-12-24T08:37:41.130417Z",
     "start_time": "2020-12-24T08:37:41.126428Z"
    }
   },
   "outputs": [],
   "source": [
    "np_data = np.random.randint(10,size=200)"
   ]
  },
  {
   "cell_type": "code",
   "execution_count": 40,
   "metadata": {
    "ExecuteTime": {
     "end_time": "2020-12-24T08:37:41.451439Z",
     "start_time": "2020-12-24T08:37:41.448417Z"
    }
   },
   "outputs": [],
   "source": [
    "target = t.from_numpy(np_data).long()"
   ]
  },
  {
   "cell_type": "code",
   "execution_count": 41,
   "metadata": {
    "ExecuteTime": {
     "end_time": "2020-12-24T08:37:42.780398Z",
     "start_time": "2020-12-24T08:37:42.776409Z"
    }
   },
   "outputs": [
    {
     "data": {
      "text/plain": [
       "torch.Size([1, 5])"
      ]
     },
     "execution_count": 41,
     "metadata": {},
     "output_type": "execute_result"
    }
   ],
   "source": [
    "target[0:5].unsqueeze(0).shape"
   ]
  },
  {
   "cell_type": "code",
   "execution_count": 42,
   "metadata": {
    "ExecuteTime": {
     "end_time": "2020-12-24T08:37:43.500967Z",
     "start_time": "2020-12-24T08:37:43.496977Z"
    }
   },
   "outputs": [
    {
     "data": {
      "text/plain": [
       "torch.Size([1])"
      ]
     },
     "execution_count": 42,
     "metadata": {},
     "output_type": "execute_result"
    }
   ],
   "source": [
    "target[0].unsqueeze(0).shape"
   ]
  },
  {
   "cell_type": "code",
   "execution_count": 43,
   "metadata": {
    "ExecuteTime": {
     "end_time": "2020-12-24T08:37:47.309311Z",
     "start_time": "2020-12-24T08:37:44.885793Z"
    }
   },
   "outputs": [
    {
     "name": "stdout",
     "output_type": "stream",
     "text": [
      "every epoch loss: 0.6946102714538575\n",
      "every epoch loss: 0.4332793790102005\n",
      "every epoch loss: 0.41326736271381376\n",
      "every epoch loss: 0.3955635350942612\n",
      "every epoch loss: 0.3773640024662018\n",
      "every epoch loss: 0.35939031064510346\n",
      "every epoch loss: 0.3398326313495636\n",
      "every epoch loss: 0.3199641168117523\n",
      "every epoch loss: 0.29801361858844755\n",
      "every epoch loss: 0.2756429839134216\n",
      "every epoch loss: 0.25373943269252774\n",
      "every epoch loss: 0.23134663015604018\n",
      "every epoch loss: 0.20959792792797088\n",
      "every epoch loss: 0.18867456436157226\n",
      "every epoch loss: 0.1660308501124382\n",
      "every epoch loss: 0.14533435121178628\n",
      "every epoch loss: 0.12671553440392017\n",
      "every epoch loss: 0.10856434039771556\n",
      "every epoch loss: 0.09259809304028749\n",
      "every epoch loss: 0.07765115404501557\n",
      "every epoch loss: 0.06484807036817074\n",
      "every epoch loss: 0.05423285902477801\n",
      "every epoch loss: 0.04354769885540009\n",
      "every epoch loss: 0.03512225683778524\n",
      "every epoch loss: 0.027613970758393405\n",
      "every epoch loss: 0.021727481544949113\n",
      "every epoch loss: 0.017018131846562028\n",
      "every epoch loss: 0.01403424829710275\n",
      "every epoch loss: 0.011485555598046631\n",
      "every epoch loss: 0.009696217917371542\n"
     ]
    }
   ],
   "source": [
    "for epoch in range(30):\n",
    "    all_loss = 0\n",
    "    for i in range(39):\n",
    "        input_data = x[5*i:5*i+5,:,:, :]\n",
    "        out = net(input_data)\n",
    "        target_data = target[5*i:5*i+5]\n",
    "\n",
    "        optimizer.zero_grad()\n",
    "        loss = criterion(out, target_data)\n",
    "        loss.backward()\n",
    "        \n",
    "        all_loss += loss.item()\n",
    "\n",
    "        optimizer.step()\n",
    "    print('every epoch loss:',all_loss/200)\n",
    "    "
   ]
  },
  {
   "cell_type": "markdown",
   "metadata": {},
   "source": [
    "# 训练一个十分类网络"
   ]
  },
  {
   "cell_type": "markdown",
   "metadata": {},
   "source": [
    "## 下载数据集\n",
    "\n",
    "The CIFAR-10 dataset consists of 60000 32x32 colour images in 10 classes, with 6000 images per class. There are 50000 training images and 10000 test images."
   ]
  },
  {
   "cell_type": "code",
   "execution_count": 44,
   "metadata": {
    "ExecuteTime": {
     "end_time": "2020-12-24T09:06:40.230373Z",
     "start_time": "2020-12-24T09:06:40.066577Z"
    }
   },
   "outputs": [],
   "source": [
    "import torchvision as tv\n",
    "import torchvision.transforms as transforms\n",
    "from torchvision.transforms import ToPILImage\n",
    "show = ToPILImage() # 可以把Tensor转成Image，方便可视化"
   ]
  },
  {
   "cell_type": "code",
   "execution_count": 45,
   "metadata": {
    "ExecuteTime": {
     "end_time": "2020-12-24T09:11:49.263369Z",
     "start_time": "2020-12-24T09:11:14.245943Z"
    }
   },
   "outputs": [
    {
     "name": "stderr",
     "output_type": "stream",
     "text": [
      "\r",
      "0it [00:00, ?it/s]"
     ]
    },
    {
     "name": "stdout",
     "output_type": "stream",
     "text": [
      "Downloading https://www.cs.toronto.edu/~kriz/cifar-10-python.tar.gz to ./cha2_data/cifar-10-python.tar.gz\n"
     ]
    },
    {
     "name": "stderr",
     "output_type": "stream",
     "text": [
      "100%|██████████████████████████████████████████████████████████████▊| 169861120/170498071 [00:32<00:00, 6919348.00it/s]"
     ]
    },
    {
     "name": "stdout",
     "output_type": "stream",
     "text": [
      "Extracting ./cha2_data/cifar-10-python.tar.gz to ./cha2_data/\n",
      "Files already downloaded and verified\n"
     ]
    },
    {
     "name": "stderr",
     "output_type": "stream",
     "text": [
      "\r",
      "170500096it [00:50, 6919348.00it/s]                                                                                    "
     ]
    }
   ],
   "source": [
    "# 第一次运行程序torchvision会自动下载CIFAR-10数据集，\n",
    "# 大约100M，需花费一定的时间，\n",
    "# 如果已经下载有CIFAR-10，可通过root参数指定\n",
    "\n",
    "# 定义对数据的预处理\n",
    "transform = transforms.Compose([\n",
    "        transforms.ToTensor(), # 转为Tensor\n",
    "        transforms.Normalize((0.5, 0.5, 0.5), (0.5, 0.5, 0.5)), # 归一化\n",
    "                             ])\n",
    "\n",
    "# 训练集\n",
    "trainset = tv.datasets.CIFAR10(\n",
    "                    root='./cha2_data/', \n",
    "                    train=True, \n",
    "                    download=True,\n",
    "                    transform=transform)\n",
    "\n",
    "trainloader = t.utils.data.DataLoader(\n",
    "                    trainset, \n",
    "                    batch_size=4,\n",
    "                    shuffle=True, \n",
    "                    num_workers=2)\n",
    "\n",
    "# 测试集\n",
    "testset = tv.datasets.CIFAR10(\n",
    "                    './cha2_data/',\n",
    "                    train=False, \n",
    "                    download=True, \n",
    "                    transform=transform)\n",
    "\n",
    "testloader = t.utils.data.DataLoader(\n",
    "                    testset,\n",
    "                    batch_size=4, \n",
    "                    shuffle=False,\n",
    "                    num_workers=2)\n",
    "\n",
    "classes = ('plane', 'car', 'bird', 'cat',\n",
    "           'deer', 'dog', 'frog', 'horse', 'ship', 'truck')"
   ]
  },
  {
   "cell_type": "code",
   "execution_count": 61,
   "metadata": {
    "ExecuteTime": {
     "end_time": "2020-12-25T06:25:41.311594Z",
     "start_time": "2020-12-25T06:25:41.307603Z"
    }
   },
   "outputs": [
    {
     "data": {
      "text/plain": [
       "50000"
      ]
     },
     "execution_count": 61,
     "metadata": {},
     "output_type": "execute_result"
    }
   ],
   "source": [
    "len(trainset)"
   ]
  },
  {
   "cell_type": "code",
   "execution_count": 63,
   "metadata": {
    "ExecuteTime": {
     "end_time": "2020-12-25T06:25:58.813679Z",
     "start_time": "2020-12-25T06:25:58.808660Z"
    }
   },
   "outputs": [
    {
     "data": {
      "text/plain": [
       "2"
      ]
     },
     "execution_count": 63,
     "metadata": {},
     "output_type": "execute_result"
    }
   ],
   "source": [
    "len(trainset[0])"
   ]
  },
  {
   "cell_type": "code",
   "execution_count": 66,
   "metadata": {
    "ExecuteTime": {
     "end_time": "2020-12-25T06:26:13.470974Z",
     "start_time": "2020-12-25T06:26:13.465960Z"
    }
   },
   "outputs": [
    {
     "data": {
      "text/plain": [
       "torch.Size([3, 32, 32])"
      ]
     },
     "execution_count": 66,
     "metadata": {},
     "output_type": "execute_result"
    }
   ],
   "source": [
    "trainset[0][0].shape"
   ]
  },
  {
   "cell_type": "code",
   "execution_count": 67,
   "metadata": {
    "ExecuteTime": {
     "end_time": "2020-12-25T06:26:22.350265Z",
     "start_time": "2020-12-25T06:26:22.345248Z"
    }
   },
   "outputs": [
    {
     "data": {
      "text/plain": [
       "6"
      ]
     },
     "execution_count": 67,
     "metadata": {},
     "output_type": "execute_result"
    }
   ],
   "source": [
    "trainset[0][1]"
   ]
  },
  {
   "cell_type": "code",
   "execution_count": 46,
   "metadata": {
    "ExecuteTime": {
     "end_time": "2020-12-24T09:12:38.357218Z",
     "start_time": "2020-12-24T09:12:38.325303Z"
    }
   },
   "outputs": [
    {
     "name": "stdout",
     "output_type": "stream",
     "text": [
      "ship\n"
     ]
    },
    {
     "data": {
      "image/png": "[encoded data removed]",
      "text/plain": [
       "<PIL.Image.Image image mode=RGB size=100x100 at 0x2184AEF1B00>"
      ]
     },
     "execution_count": 46,
     "metadata": {},
     "output_type": "execute_result"
    }
   ],
   "source": [
    "(data, label) = trainset[100]\n",
    "print(classes[label])\n",
    "\n",
    "# (data + 1) / 2是为了还原被归一化的数据\n",
    "show((data + 1) / 2).resize((100, 100))"
   ]
  },
  {
   "cell_type": "code",
   "execution_count": 53,
   "metadata": {
    "ExecuteTime": {
     "end_time": "2020-12-25T03:30:08.609144Z",
     "start_time": "2020-12-25T03:30:05.504408Z"
    }
   },
   "outputs": [
    {
     "name": "stdout",
     "output_type": "stream",
     "text": [
      "      truck         cat       plane        deer\n"
     ]
    },
    {
     "data": {
      "image/png": "[encoded data removed]",
      "text/plain": [
       "<PIL.Image.Image image mode=RGB size=400x100 at 0x2184AFBDB38>"
      ]
     },
     "execution_count": 53,
     "metadata": {},
     "output_type": "execute_result"
    }
   ],
   "source": [
    "dataiter = iter(trainloader)\n",
    "images, labels = dataiter.next() # 返回4张图片及标签\n",
    "print(' '.join('%11s'%classes[labels[j]] for j in range(4)))\n",
    "show(tv.utils.make_grid((images+1)/2)).resize((400,100))"
   ]
  },
  {
   "cell_type": "markdown",
   "metadata": {},
   "source": [
    "## 定义网络"
   ]
  },
  {
   "cell_type": "code",
   "execution_count": 56,
   "metadata": {
    "ExecuteTime": {
     "end_time": "2020-12-25T06:01:14.463154Z",
     "start_time": "2020-12-25T06:01:14.457134Z"
    }
   },
   "outputs": [],
   "source": [
    "class MyNet(nn.Module):\n",
    "    def __init__(self):\n",
    "        super(MyNet,self).__init__()\n",
    "        \n",
    "        self.conv1 = nn.Conv2d(3,6,5)\n",
    "        self.conv2 = nn.Conv2d(6,16,5)\n",
    "        self.fc1 = nn.Linear(16*5*5,120) #这里的5*5是原图32*32经过两轮5*5卷积以及2*2池化后的结果\n",
    "        self.fc2 = nn.Linear(120,84)\n",
    "        self.fc3 = nn.Linear(84,10)\n",
    "    \n",
    "    def forward(self,x):\n",
    "        x = F.max_pool2d(F.relu(self.conv1(x)),(2,2))\n",
    "        x = F.max_pool2d(F.relu(self.conv2(x)),2)\n",
    "        x = x.view(x.size()[0],-1)\n",
    "        x = F.relu(self.fc1(x))\n",
    "        x = F.relu(self.fc2(x))\n",
    "        x = self.fc3(x)\n",
    "        return x"
   ]
  },
  {
   "cell_type": "code",
   "execution_count": 69,
   "metadata": {
    "ExecuteTime": {
     "end_time": "2020-12-25T06:42:16.494669Z",
     "start_time": "2020-12-25T06:42:16.489716Z"
    }
   },
   "outputs": [],
   "source": [
    "mynet = MyNet()"
   ]
  },
  {
   "cell_type": "code",
   "execution_count": 70,
   "metadata": {
    "ExecuteTime": {
     "end_time": "2020-12-25T06:42:17.228779Z",
     "start_time": "2020-12-25T06:42:17.224790Z"
    }
   },
   "outputs": [
    {
     "name": "stdout",
     "output_type": "stream",
     "text": [
      "MyNet(\n",
      "  (conv1): Conv2d(3, 6, kernel_size=(5, 5), stride=(1, 1))\n",
      "  (conv2): Conv2d(6, 16, kernel_size=(5, 5), stride=(1, 1))\n",
      "  (fc1): Linear(in_features=400, out_features=120, bias=True)\n",
      "  (fc2): Linear(in_features=120, out_features=84, bias=True)\n",
      "  (fc3): Linear(in_features=84, out_features=10, bias=True)\n",
      ")\n"
     ]
    }
   ],
   "source": [
    "print(mynet)"
   ]
  },
  {
   "cell_type": "markdown",
   "metadata": {},
   "source": [
    "## 定义损失函数和优化器"
   ]
  },
  {
   "cell_type": "code",
   "execution_count": 71,
   "metadata": {
    "ExecuteTime": {
     "end_time": "2020-12-25T06:42:19.659920Z",
     "start_time": "2020-12-25T06:42:19.656900Z"
    }
   },
   "outputs": [],
   "source": [
    "criterion = nn.CrossEntropyLoss()\n",
    "opitimizer = optim.SGD(mynet.parameters(),lr=0.001,momentum=0.9)"
   ]
  },
  {
   "cell_type": "markdown",
   "metadata": {},
   "source": [
    "# 训练模型"
   ]
  },
  {
   "cell_type": "code",
   "execution_count": 72,
   "metadata": {
    "ExecuteTime": {
     "end_time": "2020-12-25T06:48:14.610460Z",
     "start_time": "2020-12-25T06:42:22.168314Z"
    },
    "scrolled": true
   },
   "outputs": [
    {
     "name": "stdout",
     "output_type": "stream",
     "text": [
      "[1,  2000 ] loss: 2.180\n",
      "[1,  4000 ] loss: 1.866\n",
      "[1,  6000 ] loss: 1.676\n",
      "[1,  8000 ] loss: 1.591\n",
      "[1, 10000 ] loss: 1.525\n",
      "[1, 12000 ] loss: 1.483\n",
      "[2,  2000 ] loss: 1.415\n",
      "[2,  4000 ] loss: 1.392\n",
      "[2,  6000 ] loss: 1.353\n",
      "[2,  8000 ] loss: 1.351\n",
      "[2, 10000 ] loss: 1.313\n",
      "[2, 12000 ] loss: 1.288\n",
      "[3,  2000 ] loss: 1.244\n",
      "[3,  4000 ] loss: 1.223\n",
      "[3,  6000 ] loss: 1.223\n",
      "[3,  8000 ] loss: 1.195\n",
      "[3, 10000 ] loss: 1.195\n",
      "[3, 12000 ] loss: 1.194\n",
      "[4,  2000 ] loss: 1.125\n",
      "[4,  4000 ] loss: 1.120\n",
      "[4,  6000 ] loss: 1.133\n",
      "[4,  8000 ] loss: 1.126\n",
      "[4, 10000 ] loss: 1.135\n",
      "[4, 12000 ] loss: 1.131\n",
      "[5,  2000 ] loss: 1.056\n",
      "[5,  4000 ] loss: 1.043\n",
      "[5,  6000 ] loss: 1.053\n",
      "[5,  8000 ] loss: 1.053\n",
      "[5, 10000 ] loss: 1.077\n",
      "[5, 12000 ] loss: 1.055\n",
      "[6,  2000 ] loss: 0.960\n",
      "[6,  4000 ] loss: 1.000\n",
      "[6,  6000 ] loss: 0.989\n",
      "[6,  8000 ] loss: 1.016\n",
      "[6, 10000 ] loss: 0.992\n",
      "[6, 12000 ] loss: 1.008\n",
      "[7,  2000 ] loss: 0.922\n",
      "[7,  4000 ] loss: 0.919\n",
      "[7,  6000 ] loss: 0.957\n",
      "[7,  8000 ] loss: 0.948\n",
      "[7, 10000 ] loss: 0.968\n",
      "[7, 12000 ] loss: 0.952\n",
      "[8,  2000 ] loss: 0.860\n",
      "[8,  4000 ] loss: 0.880\n",
      "[8,  6000 ] loss: 0.896\n",
      "[8,  8000 ] loss: 0.913\n",
      "[8, 10000 ] loss: 0.927\n",
      "[8, 12000 ] loss: 0.937\n",
      "[9,  2000 ] loss: 0.814\n",
      "[9,  4000 ] loss: 0.855\n",
      "[9,  6000 ] loss: 0.875\n",
      "[9,  8000 ] loss: 0.882\n",
      "[9, 10000 ] loss: 0.888\n",
      "[9, 12000 ] loss: 0.907\n",
      "[10,  2000 ] loss: 0.774\n",
      "[10,  4000 ] loss: 0.834\n",
      "[10,  6000 ] loss: 0.818\n",
      "[10,  8000 ] loss: 0.845\n",
      "[10, 10000 ] loss: 0.877\n",
      "[10, 12000 ] loss: 0.869\n",
      "Finish trainning\n"
     ]
    }
   ],
   "source": [
    "t.set_num_threads(8)\n",
    "for epoch in range(10):\n",
    "    running_loss = 0\n",
    "    for i,data in enumerate(trainloader,0):\n",
    "        '''\n",
    "        enumerate()用于可迭代\\可遍历的数据对象组合为一个索引序列，同时列出数据和数据下标.上面代码的0表示从索引从0开始，假如为1的话，那索引就从1开始。\n",
    "        '''\n",
    "        inputs, label  = data\n",
    "        \n",
    "        # 梯度清零\n",
    "        opitimizer.zero_grad()\n",
    "        \n",
    "        # forward + backward\n",
    "        outputs = mynet(inputs)\n",
    "        loss = criterion(outputs, label)\n",
    "        loss.backward()\n",
    "        \n",
    "        # 更新参数\n",
    "        opitimizer.step()\n",
    "        \n",
    "        #打印log信息\n",
    "        running_loss += loss.item()\n",
    "        if i % 2000 == 1999:\n",
    "            print('[%d, %5d ] loss: %.3f' %(epoch+1, i+1, running_loss/2000) )\n",
    "            running_loss = 0\n",
    "print('Finish trainning')"
   ]
  },
  {
   "cell_type": "markdown",
   "metadata": {},
   "source": [
    "## 验证模型"
   ]
  },
  {
   "cell_type": "code",
   "execution_count": 73,
   "metadata": {
    "ExecuteTime": {
     "end_time": "2020-12-25T07:54:06.222602Z",
     "start_time": "2020-12-25T07:54:04.821258Z"
    }
   },
   "outputs": [
    {
     "name": "stdout",
     "output_type": "stream",
     "text": [
      "实际的label:\n",
      "       cat     ship     ship    plane\n"
     ]
    },
    {
     "data": {
      "image/png": "[encoded data removed]",
      "text/plain": [
       "<PIL.Image.Image image mode=RGB size=400x100 at 0x2184C4882B0>"
      ]
     },
     "execution_count": 73,
     "metadata": {},
     "output_type": "execute_result"
    }
   ],
   "source": [
    "dataiter = iter(testloader)\n",
    "images, labels = dataiter.next() # 一个batch返回4张图片\n",
    "print('实际的label:\\n ', ' '.join(\\\n",
    "            '%08s'%classes[labels[j]] for j in range(4)))\n",
    "show(tv.utils.make_grid(images / 2 - 0.5)).resize((400,100))"
   ]
  },
  {
   "cell_type": "code",
   "execution_count": 75,
   "metadata": {
    "ExecuteTime": {
     "end_time": "2020-12-25T07:55:12.508353Z",
     "start_time": "2020-12-25T07:55:12.503367Z"
    }
   },
   "outputs": [
    {
     "data": {
      "text/plain": [
       "torch.Size([4, 3, 32, 32])"
      ]
     },
     "execution_count": 75,
     "metadata": {},
     "output_type": "execute_result"
    }
   ],
   "source": [
    "images.shape"
   ]
  },
  {
   "cell_type": "code",
   "execution_count": 76,
   "metadata": {
    "ExecuteTime": {
     "end_time": "2020-12-25T07:55:43.635837Z",
     "start_time": "2020-12-25T07:55:43.622902Z"
    }
   },
   "outputs": [
    {
     "name": "stdout",
     "output_type": "stream",
     "text": [
      "预测结果:    cat  ship truck plane\n"
     ]
    }
   ],
   "source": [
    "# 计算图片在每个类别上的分数\n",
    "outputs = mynet(images)\n",
    "# 得分最高的那个类\n",
    "_, predicted = t.max(outputs.data, 1) #返回预测结果\n",
    "\n",
    "print('预测结果: ', ' '.join('%5s'\\\n",
    "            % classes[predicted[j]] for j in range(4)))"
   ]
  },
  {
   "cell_type": "code",
   "execution_count": 79,
   "metadata": {
    "ExecuteTime": {
     "end_time": "2020-12-25T07:56:37.195662Z",
     "start_time": "2020-12-25T07:56:37.191674Z"
    }
   },
   "outputs": [
    {
     "data": {
      "text/plain": [
       "torch.Size([4, 10])"
      ]
     },
     "execution_count": 79,
     "metadata": {},
     "output_type": "execute_result"
    }
   ],
   "source": [
    "outputs.data.shape"
   ]
  },
  {
   "cell_type": "code",
   "execution_count": 81,
   "metadata": {
    "ExecuteTime": {
     "end_time": "2020-12-25T07:57:03.531492Z",
     "start_time": "2020-12-25T07:57:03.526475Z"
    }
   },
   "outputs": [
    {
     "data": {
      "text/plain": [
       "tensor([3, 8, 9, 0])"
      ]
     },
     "execution_count": 81,
     "metadata": {},
     "output_type": "execute_result"
    }
   ],
   "source": [
    "predicted"
   ]
  },
  {
   "cell_type": "markdown",
   "metadata": {},
   "source": [
    "## 预测整个测试集的准确率"
   ]
  },
  {
   "cell_type": "code",
   "execution_count": 82,
   "metadata": {
    "ExecuteTime": {
     "end_time": "2020-12-25T08:04:50.099153Z",
     "start_time": "2020-12-25T08:04:46.073845Z"
    }
   },
   "outputs": [
    {
     "name": "stdout",
     "output_type": "stream",
     "text": [
      "10000张测试集中的准确率为: 62 %\n"
     ]
    }
   ],
   "source": [
    "correct = 0\n",
    "total = 0\n",
    "\n",
    "with t.no_grad():\n",
    "    for data in testloader:\n",
    "        images ,labels = data\n",
    "        outputs = mynet(images)\n",
    "        _, predicted = t.max(outputs, 1)\n",
    "        total += labels.size(0)\n",
    "        correct += (predicted == labels).sum()\n",
    "print('10000张测试集中的准确率为: %d %%' %(100 * correct / total))"
   ]
  }
 ],
 "metadata": {
  "kernelspec": {
   "display_name": "Python [conda env:.conda-pytorch] *",
   "language": "python",
   "name": "conda-env-.conda-pytorch-py"
  },
  "language_info": {
   "codemirror_mode": {
    "name": "ipython",
    "version": 3
   },
   "file_extension": ".py",
   "mimetype": "text/x-python",
   "name": "python",
   "nbconvert_exporter": "python",
   "pygments_lexer": "ipython3",
   "version": "3.6.6"
  },
  "toc": {
   "base_numbering": 1,
   "nav_menu": {},
   "number_sections": true,
   "sideBar": true,
   "skip_h1_title": false,
   "title_cell": "Table of Contents",
   "title_sidebar": "Contents",
   "toc_cell": false,
   "toc_position": {},
   "toc_section_display": true,
   "toc_window_display": true
  }
 },
 "nbformat": 4,
 "nbformat_minor": 4
}
